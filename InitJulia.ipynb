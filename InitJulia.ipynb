{
 "cells": [
  {
   "cell_type": "code",
   "execution_count": null,
   "metadata": {
    "collapsed": false,
    "scrolled": false
   },
   "outputs": [],
   "source": [
    "ENV[\"PYTHON\"]=\"\"\n",
    "Pkg.update()\n",
    "Pkg.add(\"PyPlot\")\n",
    "Pkg.clone(\"Cairo\")\n",
    "run(`perl -i -0pe 's/provides\\(AptGet(.*?)\\)\\)//gs' /app/.julia/v0.4/Cairo/deps/build.jl`)\n",
    "Pkg.build(\"Cairo\")"
   ]
  },
  {
   "cell_type": "code",
   "execution_count": null,
   "metadata": {
    "collapsed": false,
    "scrolled": true
   },
   "outputs": [],
   "source": [
    "Pkg.clone(\"Tk\")\n",
    "run(`perl -pi -e 's/provides\\(AptGet.*\\)//g' /app/.julia/v0.4/Tk/deps/build.jl`)\n",
    "Pkg.build(\"Tk\")\n",
    "Pkg.add(\"ParallelAccelerator\")"
   ]
  },
  {
   "cell_type": "code",
   "execution_count": 5,
   "metadata": {
    "collapsed": false,
    "scrolled": false
   },
   "outputs": [
    {
     "name": "stderr",
     "output_type": "stream",
     "text": [
      "cat: InitIJulia.ipynb: No such file or directory\n"
     ]
    },
    {
     "ename": "LoadError",
     "evalue": "LoadError: failed process: Process(`cat InitIJulia.ipynb`, ProcessExited(1)) [1]\nwhile loading In[5], in expression starting on line 1",
     "output_type": "error",
     "traceback": [
      "LoadError: failed process: Process(`cat InitIJulia.ipynb`, ProcessExited(1)) [1]\nwhile loading In[5], in expression starting on line 1",
      ""
     ]
    }
   ],
   "source": [
    "run(`cat InitJulia.ipynb`)"
   ]
  },
  {
   "cell_type": "code",
   "execution_count": null,
   "metadata": {
    "collapsed": true
   },
   "outputs": [],
   "source": []
  }
 ],
 "metadata": {
  "kernelspec": {
   "display_name": "Julia 0.4.3",
   "language": "julia",
   "name": "julia-0.4"
  },
  "language_info": {
   "file_extension": ".jl",
   "mimetype": "application/julia",
   "name": "julia",
   "version": "0.4.3"
  }
 },
 "nbformat": 4,
 "nbformat_minor": 0
}
