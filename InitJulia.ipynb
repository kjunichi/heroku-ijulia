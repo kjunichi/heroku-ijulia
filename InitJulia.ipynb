{
 "cells": [
  {
   "cell_type": "code",
   "execution_count": null,
   "metadata": {
    "collapsed": false,
    "scrolled": true
   },
   "outputs": [],
   "source": [
    "ENV[\"PYTHON\"]=\"\"\n",
    "Pkg.update()\n",
    "Pkg.add(\"PyPlot\")\n",
    "Pkg.clone(\"Cairo\")\n",
    "run(`perl -i -0pe 's/provides\\(AptGet(.*?)\\)\\)//gs' /app/.julia/v0.4/Cairo/deps/build.jl`)\n",
    "Pkg.build(\"Cairo\")"
   ]
  },
  {
   "cell_type": "code",
   "execution_count": null,
   "metadata": {
    "collapsed": false,
    "scrolled": true
   },
   "outputs": [],
   "source": [
    "run(`perl -pi -e 's/provides\\(AptGet.*\\)//g' /app/.julia/v0.4/Tk/deps/build.jl`)\n",
    "Pkg.build(\"Tk\")\n",
    "Pkg.add(\"ParallelAccelerator\")\n",
    "Pkg.add(\"SymPy\")"
   ]
  },
  {
   "cell_type": "code",
   "execution_count": null,
   "metadata": {
    "collapsed": false,
    "scrolled": true
   },
   "outputs": [],
   "source": [
    "run(`cat InitJulia.ipynb`)"
   ]
  }
 ],
 "metadata": {
  "kernelspec": {
   "display_name": "Julia 0.4.3",
   "language": "julia",
   "name": "julia-0.4"
  },
  "language_info": {
   "file_extension": ".jl",
   "mimetype": "application/julia",
   "name": "julia",
   "version": "0.4.3"
  }
 },
 "nbformat": 4,
 "nbformat_minor": 0
}
